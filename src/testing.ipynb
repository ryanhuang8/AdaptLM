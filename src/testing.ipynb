{
 "cells": [
  {
   "cell_type": "code",
   "execution_count": 5,
   "metadata": {},
   "outputs": [
    {
     "name": "stdout",
     "output_type": "stream",
     "text": [
      "c:\\Users\\jzou2\\VSCode\\ContextLLM\\src\n"
     ]
    }
   ],
   "source": [
    "import os \n",
    "print(os.getcwd())"
   ]
  },
  {
   "cell_type": "code",
   "execution_count": null,
   "metadata": {},
   "outputs": [],
   "source": [
    "from llms import GPT, Gemini, DeepSeek, Claude, Hume\n",
    "\n",
    "def test_gpt():\n",
    "    gpt = GPT(\"gpt\")\n",
    "    response = gpt.generate_text(\"Write a one-sentence bedtime story about a unicorn.\")\n",
    "    print(response)\n",
    "\n",
    "test_gpt()"
   ]
  }
 ],
 "metadata": {
  "kernelspec": {
   "display_name": "contextllm_env",
   "language": "python",
   "name": "python3"
  },
  "language_info": {
   "codemirror_mode": {
    "name": "ipython",
    "version": 3
   },
   "file_extension": ".py",
   "mimetype": "text/x-python",
   "name": "python",
   "nbconvert_exporter": "python",
   "pygments_lexer": "ipython3",
   "version": "3.11.9"
  }
 },
 "nbformat": 4,
 "nbformat_minor": 2
}
